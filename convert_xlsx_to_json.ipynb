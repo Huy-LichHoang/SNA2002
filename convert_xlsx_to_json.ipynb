{
 "cells": [
  {
   "cell_type": "markdown",
   "metadata": {},
   "source": [
    "# **Chuyển dữ liệu thô từ file excel thành file json**"
   ]
  },
  {
   "cell_type": "code",
   "execution_count": 2,
   "metadata": {},
   "outputs": [],
   "source": [
    "import pandas as pd\n",
    "import json\n",
    "import os"
   ]
  },
  {
   "cell_type": "code",
   "execution_count": 3,
   "metadata": {},
   "outputs": [],
   "source": [
    "ROOT_PATH = \"D:/Study/PTMXH/Project/SNA2002/Data/Geo\""
   ]
  },
  {
   "cell_type": "code",
   "execution_count": 4,
   "metadata": {},
   "outputs": [
    {
     "data": {
      "text/html": [
       "<div>\n",
       "<style scoped>\n",
       "    .dataframe tbody tr th:only-of-type {\n",
       "        vertical-align: middle;\n",
       "    }\n",
       "\n",
       "    .dataframe tbody tr th {\n",
       "        vertical-align: top;\n",
       "    }\n",
       "\n",
       "    .dataframe thead th {\n",
       "        text-align: right;\n",
       "    }\n",
       "</style>\n",
       "<table border=\"1\" class=\"dataframe\">\n",
       "  <thead>\n",
       "    <tr style=\"text-align: right;\">\n",
       "      <th></th>\n",
       "      <th>id</th>\n",
       "      <th>ward</th>\n",
       "      <th>district</th>\n",
       "      <th>coordinates</th>\n",
       "    </tr>\n",
       "  </thead>\n",
       "  <tbody>\n",
       "    <tr>\n",
       "      <th>0</th>\n",
       "      <td>101</td>\n",
       "      <td>Thị Trấn Tân Túc</td>\n",
       "      <td>Huyện Bình Chánh</td>\n",
       "      <td>{\"value\":[[[106.597351074219,10.7012920379639,...</td>\n",
       "    </tr>\n",
       "    <tr>\n",
       "      <th>1</th>\n",
       "      <td>102</td>\n",
       "      <td>Xã An Phú Tây</td>\n",
       "      <td>Huyện Bình Chánh</td>\n",
       "      <td>{\"value\":[[[106.59790802002,10.7013263702393,1...</td>\n",
       "    </tr>\n",
       "    <tr>\n",
       "      <th>2</th>\n",
       "      <td>103</td>\n",
       "      <td>Xã Bình Chánh</td>\n",
       "      <td>Huyện Bình Chánh</td>\n",
       "      <td>{\"value\":[[[106.569549560547,10.6794986724854,...</td>\n",
       "    </tr>\n",
       "    <tr>\n",
       "      <th>3</th>\n",
       "      <td>104</td>\n",
       "      <td>Xã Bình Hưng</td>\n",
       "      <td>Huyện Bình Chánh</td>\n",
       "      <td>{\"value\":[[[106.69319152832,10.7398862838745,1...</td>\n",
       "    </tr>\n",
       "    <tr>\n",
       "      <th>4</th>\n",
       "      <td>105</td>\n",
       "      <td>Xã Bình Lợi</td>\n",
       "      <td>Huyện Bình Chánh</td>\n",
       "      <td>{\"value\":[[[106.506706237793,10.7932138442993,...</td>\n",
       "    </tr>\n",
       "  </tbody>\n",
       "</table>\n",
       "</div>"
      ],
      "text/plain": [
       "    id              ward          district  \\\n",
       "0  101  Thị Trấn Tân Túc  Huyện Bình Chánh   \n",
       "1  102     Xã An Phú Tây  Huyện Bình Chánh   \n",
       "2  103     Xã Bình Chánh  Huyện Bình Chánh   \n",
       "3  104      Xã Bình Hưng  Huyện Bình Chánh   \n",
       "4  105       Xã Bình Lợi  Huyện Bình Chánh   \n",
       "\n",
       "                                         coordinates  \n",
       "0  {\"value\":[[[106.597351074219,10.7012920379639,...  \n",
       "1  {\"value\":[[[106.59790802002,10.7013263702393,1...  \n",
       "2  {\"value\":[[[106.569549560547,10.6794986724854,...  \n",
       "3  {\"value\":[[[106.69319152832,10.7398862838745,1...  \n",
       "4  {\"value\":[[[106.506706237793,10.7932138442993,...  "
      ]
     },
     "execution_count": 4,
     "metadata": {},
     "output_type": "execute_result"
    }
   ],
   "source": [
    "df = pd.read_excel(os.path.join(ROOT_PATH, \"hcm_geoboundaries_raw_data.xlsx\"))\n",
    "df.head()"
   ]
  },
  {
   "cell_type": "code",
   "execution_count": 5,
   "metadata": {},
   "outputs": [
    {
     "data": {
      "text/html": [
       "<div>\n",
       "<style scoped>\n",
       "    .dataframe tbody tr th:only-of-type {\n",
       "        vertical-align: middle;\n",
       "    }\n",
       "\n",
       "    .dataframe tbody tr th {\n",
       "        vertical-align: top;\n",
       "    }\n",
       "\n",
       "    .dataframe thead th {\n",
       "        text-align: right;\n",
       "    }\n",
       "</style>\n",
       "<table border=\"1\" class=\"dataframe\">\n",
       "  <thead>\n",
       "    <tr style=\"text-align: right;\">\n",
       "      <th></th>\n",
       "      <th>id</th>\n",
       "      <th>ward</th>\n",
       "      <th>district</th>\n",
       "      <th>coordinates</th>\n",
       "    </tr>\n",
       "  </thead>\n",
       "  <tbody>\n",
       "    <tr>\n",
       "      <th>0</th>\n",
       "      <td>101</td>\n",
       "      <td>Thị Trấn Tân Túc</td>\n",
       "      <td>Huyện Bình Chánh</td>\n",
       "      <td>[[[106.597351074219, 10.7012920379639], [106.5...</td>\n",
       "    </tr>\n",
       "    <tr>\n",
       "      <th>1</th>\n",
       "      <td>102</td>\n",
       "      <td>Xã An Phú Tây</td>\n",
       "      <td>Huyện Bình Chánh</td>\n",
       "      <td>[[[106.59790802002, 10.7013263702393], [106.59...</td>\n",
       "    </tr>\n",
       "    <tr>\n",
       "      <th>2</th>\n",
       "      <td>103</td>\n",
       "      <td>Xã Bình Chánh</td>\n",
       "      <td>Huyện Bình Chánh</td>\n",
       "      <td>[[[106.569549560547, 10.6794986724854], [106.5...</td>\n",
       "    </tr>\n",
       "    <tr>\n",
       "      <th>3</th>\n",
       "      <td>104</td>\n",
       "      <td>Xã Bình Hưng</td>\n",
       "      <td>Huyện Bình Chánh</td>\n",
       "      <td>[[[106.69319152832, 10.7398862838745], [106.69...</td>\n",
       "    </tr>\n",
       "    <tr>\n",
       "      <th>4</th>\n",
       "      <td>105</td>\n",
       "      <td>Xã Bình Lợi</td>\n",
       "      <td>Huyện Bình Chánh</td>\n",
       "      <td>[[[106.506706237793, 10.7932138442993], [106.5...</td>\n",
       "    </tr>\n",
       "  </tbody>\n",
       "</table>\n",
       "</div>"
      ],
      "text/plain": [
       "    id              ward          district  \\\n",
       "0  101  Thị Trấn Tân Túc  Huyện Bình Chánh   \n",
       "1  102     Xã An Phú Tây  Huyện Bình Chánh   \n",
       "2  103     Xã Bình Chánh  Huyện Bình Chánh   \n",
       "3  104      Xã Bình Hưng  Huyện Bình Chánh   \n",
       "4  105       Xã Bình Lợi  Huyện Bình Chánh   \n",
       "\n",
       "                                         coordinates  \n",
       "0  [[[106.597351074219, 10.7012920379639], [106.5...  \n",
       "1  [[[106.59790802002, 10.7013263702393], [106.59...  \n",
       "2  [[[106.569549560547, 10.6794986724854], [106.5...  \n",
       "3  [[[106.69319152832, 10.7398862838745], [106.69...  \n",
       "4  [[[106.506706237793, 10.7932138442993], [106.5...  "
      ]
     },
     "execution_count": 5,
     "metadata": {},
     "output_type": "execute_result"
    }
   ],
   "source": [
    "def split_coord(s):\n",
    "    \"\"\"\n",
    "    Hàm chuyển giá trị trong cột coordinates thành mảng các tọa độ\n",
    "    \"\"\"\n",
    "    coords = eval(s)['value']\n",
    "    assert len(coords) == 1\n",
    "    assert len(coords[0]) == 1\n",
    "    coords = coords[0][0]\n",
    "    new_coords = []\n",
    "    for i in range(0, len(coords), 2):\n",
    "        new_coords.append([coords[i], coords[i+1]])\n",
    "    return [new_coords]\n",
    "\n",
    "df.coordinates = df.coordinates.apply(split_coord)\n",
    "df.head()"
   ]
  },
  {
   "cell_type": "code",
   "execution_count": 6,
   "metadata": {},
   "outputs": [],
   "source": [
    "data = {\"type\":\"FeatureCollection\", \"features\":[]}\n",
    "for i, row in df.iterrows():\n",
    "    zone = {\"type\":\"Feature\", \"properties\":{}, \"geometry\":{\"type\":\"MultiPolygon\", \"coordinates\":[]}}\n",
    "    zone[\"properties\"][\"id\"] = row.id\n",
    "    zone[\"properties\"][\"name\"] = row.ward + \", \" + row.district if row.id > 100 else row.district\n",
    "    zone[\"geometry\"][\"coordinates\"].append(row.coordinates)\n",
    "    data[\"features\"].append(zone)"
   ]
  },
  {
   "cell_type": "code",
   "execution_count": 7,
   "metadata": {},
   "outputs": [],
   "source": [
    "with open(os.path.join(ROOT_PATH, \"hcm_geoboundaries.json\"), \"w\", encoding=\"utf-8\") as f:\n",
    "    json.dump(data, f, ensure_ascii=False)"
   ]
  },
  {
   "cell_type": "code",
   "execution_count": null,
   "metadata": {},
   "outputs": [],
   "source": []
  }
 ],
 "metadata": {
  "kernelspec": {
   "display_name": "Python 3",
   "language": "python",
   "name": "python3"
  },
  "language_info": {
   "codemirror_mode": {
    "name": "ipython",
    "version": 3
   },
   "file_extension": ".py",
   "mimetype": "text/x-python",
   "name": "python",
   "nbconvert_exporter": "python",
   "pygments_lexer": "ipython3",
   "version": "3.8.5"
  }
 },
 "nbformat": 4,
 "nbformat_minor": 4
}
