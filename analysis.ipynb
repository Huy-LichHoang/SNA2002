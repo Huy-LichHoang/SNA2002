{
 "cells": [
  {
   "cell_type": "code",
   "execution_count": 1,
   "metadata": {},
   "outputs": [],
   "source": [
    "import pandas as pd\n",
    "import numpy as np\n",
    "import matplotlib.pyplot as plt"
   ]
  },
  {
   "cell_type": "code",
   "execution_count": 2,
   "metadata": {},
   "outputs": [
    {
     "data": {
      "text/html": [
       "<div>\n",
       "<style scoped>\n",
       "    .dataframe tbody tr th:only-of-type {\n",
       "        vertical-align: middle;\n",
       "    }\n",
       "\n",
       "    .dataframe tbody tr th {\n",
       "        vertical-align: top;\n",
       "    }\n",
       "\n",
       "    .dataframe thead th {\n",
       "        text-align: right;\n",
       "    }\n",
       "</style>\n",
       "<table border=\"1\" class=\"dataframe\">\n",
       "  <thead>\n",
       "    <tr style=\"text-align: right;\">\n",
       "      <th></th>\n",
       "      <th>origin</th>\n",
       "      <th>destination</th>\n",
       "      <th>distance meters</th>\n",
       "      <th>time sec</th>\n",
       "      <th>weight</th>\n",
       "      <th>travel mode</th>\n",
       "    </tr>\n",
       "  </thead>\n",
       "  <tbody>\n",
       "    <tr>\n",
       "      <th>0</th>\n",
       "      <td>2413</td>\n",
       "      <td>2414</td>\n",
       "      <td>1324</td>\n",
       "      <td>1008</td>\n",
       "      <td>17</td>\n",
       "      <td>WALKING</td>\n",
       "    </tr>\n",
       "    <tr>\n",
       "      <th>1</th>\n",
       "      <td>2413</td>\n",
       "      <td>2417</td>\n",
       "      <td>371</td>\n",
       "      <td>273</td>\n",
       "      <td>50</td>\n",
       "      <td>WALKING</td>\n",
       "    </tr>\n",
       "    <tr>\n",
       "      <th>2</th>\n",
       "      <td>2413</td>\n",
       "      <td>2419</td>\n",
       "      <td>1034</td>\n",
       "      <td>799</td>\n",
       "      <td>216</td>\n",
       "      <td>WALKING</td>\n",
       "    </tr>\n",
       "    <tr>\n",
       "      <th>3</th>\n",
       "      <td>2414</td>\n",
       "      <td>2415</td>\n",
       "      <td>3551</td>\n",
       "      <td>677</td>\n",
       "      <td>1</td>\n",
       "      <td>TRANSIT</td>\n",
       "    </tr>\n",
       "    <tr>\n",
       "      <th>4</th>\n",
       "      <td>2414</td>\n",
       "      <td>2433</td>\n",
       "      <td>12346</td>\n",
       "      <td>2257</td>\n",
       "      <td>1</td>\n",
       "      <td>TRANSIT</td>\n",
       "    </tr>\n",
       "  </tbody>\n",
       "</table>\n",
       "</div>"
      ],
      "text/plain": [
       "   origin  destination  distance meters  time sec  weight travel mode\n",
       "0    2413         2414             1324      1008      17     WALKING\n",
       "1    2413         2417              371       273      50     WALKING\n",
       "2    2413         2419             1034       799     216     WALKING\n",
       "3    2414         2415             3551       677       1     TRANSIT\n",
       "4    2414         2433            12346      2257       1     TRANSIT"
      ]
     },
     "execution_count": 2,
     "metadata": {},
     "output_type": "execute_result"
    }
   ],
   "source": [
    "df = pd.read_csv(\"D:/Study/PTMXH/Project/SNA2002/Data/GoogleMaps/hcm_gmaps_df.csv\", index_col=0)\n",
    "df.head()"
   ]
  },
  {
   "cell_type": "code",
   "execution_count": 3,
   "metadata": {},
   "outputs": [],
   "source": [
    "df['speed km/h'] = (df['distance meters']/1000) / (df['time sec']/3600)"
   ]
  },
  {
   "cell_type": "code",
   "execution_count": 4,
   "metadata": {},
   "outputs": [
    {
     "data": {
      "text/html": [
       "<div>\n",
       "<style scoped>\n",
       "    .dataframe tbody tr th:only-of-type {\n",
       "        vertical-align: middle;\n",
       "    }\n",
       "\n",
       "    .dataframe tbody tr th {\n",
       "        vertical-align: top;\n",
       "    }\n",
       "\n",
       "    .dataframe thead th {\n",
       "        text-align: right;\n",
       "    }\n",
       "</style>\n",
       "<table border=\"1\" class=\"dataframe\">\n",
       "  <thead>\n",
       "    <tr style=\"text-align: right;\">\n",
       "      <th></th>\n",
       "      <th>origin</th>\n",
       "      <th>destination</th>\n",
       "      <th>distance meters</th>\n",
       "      <th>time sec</th>\n",
       "      <th>weight</th>\n",
       "      <th>speed km/h</th>\n",
       "    </tr>\n",
       "  </thead>\n",
       "  <tbody>\n",
       "    <tr>\n",
       "      <th>count</th>\n",
       "      <td>18393.000000</td>\n",
       "      <td>18393.000000</td>\n",
       "      <td>18393.000000</td>\n",
       "      <td>18393.000000</td>\n",
       "      <td>18393.000000</td>\n",
       "      <td>18393.000000</td>\n",
       "    </tr>\n",
       "    <tr>\n",
       "      <th>mean</th>\n",
       "      <td>2551.955527</td>\n",
       "      <td>3084.887838</td>\n",
       "      <td>6757.674550</td>\n",
       "      <td>1404.277769</td>\n",
       "      <td>8.352906</td>\n",
       "      <td>15.909257</td>\n",
       "    </tr>\n",
       "    <tr>\n",
       "      <th>std</th>\n",
       "      <td>663.989056</td>\n",
       "      <td>630.869795</td>\n",
       "      <td>5751.434683</td>\n",
       "      <td>959.019890</td>\n",
       "      <td>23.817376</td>\n",
       "      <td>6.439987</td>\n",
       "    </tr>\n",
       "    <tr>\n",
       "      <th>min</th>\n",
       "      <td>16.000000</td>\n",
       "      <td>16.000000</td>\n",
       "      <td>1.000000</td>\n",
       "      <td>1.000000</td>\n",
       "      <td>1.000000</td>\n",
       "      <td>3.066667</td>\n",
       "    </tr>\n",
       "    <tr>\n",
       "      <th>25%</th>\n",
       "      <td>2483.000000</td>\n",
       "      <td>2815.000000</td>\n",
       "      <td>2007.000000</td>\n",
       "      <td>666.000000</td>\n",
       "      <td>1.000000</td>\n",
       "      <td>17.140845</td>\n",
       "    </tr>\n",
       "    <tr>\n",
       "      <th>50%</th>\n",
       "      <td>2659.000000</td>\n",
       "      <td>3161.000000</td>\n",
       "      <td>5364.000000</td>\n",
       "      <td>1172.000000</td>\n",
       "      <td>2.000000</td>\n",
       "      <td>18.374885</td>\n",
       "    </tr>\n",
       "    <tr>\n",
       "      <th>75%</th>\n",
       "      <td>2894.000000</td>\n",
       "      <td>3535.000000</td>\n",
       "      <td>9965.000000</td>\n",
       "      <td>1947.000000</td>\n",
       "      <td>5.000000</td>\n",
       "      <td>19.360000</td>\n",
       "    </tr>\n",
       "    <tr>\n",
       "      <th>max</th>\n",
       "      <td>3964.000000</td>\n",
       "      <td>3995.000000</td>\n",
       "      <td>42949.000000</td>\n",
       "      <td>6185.000000</td>\n",
       "      <td>713.000000</td>\n",
       "      <td>60.007792</td>\n",
       "    </tr>\n",
       "  </tbody>\n",
       "</table>\n",
       "</div>"
      ],
      "text/plain": [
       "             origin   destination  distance meters      time sec  \\\n",
       "count  18393.000000  18393.000000     18393.000000  18393.000000   \n",
       "mean    2551.955527   3084.887838      6757.674550   1404.277769   \n",
       "std      663.989056    630.869795      5751.434683    959.019890   \n",
       "min       16.000000     16.000000         1.000000      1.000000   \n",
       "25%     2483.000000   2815.000000      2007.000000    666.000000   \n",
       "50%     2659.000000   3161.000000      5364.000000   1172.000000   \n",
       "75%     2894.000000   3535.000000      9965.000000   1947.000000   \n",
       "max     3964.000000   3995.000000     42949.000000   6185.000000   \n",
       "\n",
       "             weight    speed km/h  \n",
       "count  18393.000000  18393.000000  \n",
       "mean       8.352906     15.909257  \n",
       "std       23.817376      6.439987  \n",
       "min        1.000000      3.066667  \n",
       "25%        1.000000     17.140845  \n",
       "50%        2.000000     18.374885  \n",
       "75%        5.000000     19.360000  \n",
       "max      713.000000     60.007792  "
      ]
     },
     "execution_count": 4,
     "metadata": {},
     "output_type": "execute_result"
    }
   ],
   "source": [
    "df.describe()"
   ]
  },
  {
   "cell_type": "code",
   "execution_count": 5,
   "metadata": {},
   "outputs": [
    {
     "data": {
      "text/plain": [
       "(1423, 1822)"
      ]
     },
     "execution_count": 5,
     "metadata": {},
     "output_type": "execute_result"
    }
   ],
   "source": [
    "df.origin.nunique(), df.destination.nunique()"
   ]
  },
  {
   "cell_type": "code",
   "execution_count": 6,
   "metadata": {},
   "outputs": [
    {
     "data": {
      "text/plain": [
       "(18393, 7)"
      ]
     },
     "execution_count": 6,
     "metadata": {},
     "output_type": "execute_result"
    }
   ],
   "source": [
    "df.shape"
   ]
  },
  {
   "cell_type": "code",
   "execution_count": 7,
   "metadata": {},
   "outputs": [
    {
     "data": {
      "text/plain": [
       "TRANSIT    14115\n",
       "WALKING     4278\n",
       "Name: travel mode, dtype: int64"
      ]
     },
     "execution_count": 7,
     "metadata": {},
     "output_type": "execute_result"
    }
   ],
   "source": [
    "df['travel mode'].value_counts()"
   ]
  },
  {
   "cell_type": "code",
   "execution_count": 8,
   "metadata": {},
   "outputs": [
    {
     "data": {
      "image/png": "[encoded data removed]",
      "text/plain": [
       "<Figure size 432x288 with 1 Axes>"
      ]
     },
     "metadata": {
      "needs_background": "light"
     },
     "output_type": "display_data"
    }
   ],
   "source": [
    "plt.hist(df['distance meters']/1000)\n",
    "plt.xlabel('Distance kilometers')\n",
    "plt.ylabel('Frequency')\n",
    "plt.title('HCM Public Transport Distance')\n",
    "plt.savefig('hcm_public_transport_distance_km.jpg', dpi=300)"
   ]
  },
  {
   "cell_type": "code",
   "execution_count": 9,
   "metadata": {},
   "outputs": [
    {
     "data": {
      "image/png": "[encoded data removed]",
      "text/plain": [
       "<Figure size 432x288 with 1 Axes>"
      ]
     },
     "metadata": {
      "needs_background": "light"
     },
     "output_type": "display_data"
    }
   ],
   "source": [
    "plt.hist(df['time sec']/60)\n",
    "plt.xlabel('Time minutes')\n",
    "plt.ylabel('Frequency')\n",
    "plt.title('HCM Public Transport Time')\n",
    "plt.savefig('hcm_public_transport_time_min.jpg', dpi=300)"
   ]
  },
  {
   "cell_type": "code",
   "execution_count": 10,
   "metadata": {},
   "outputs": [
    {
     "data": {
      "image/png": "[encoded data removed]",
      "text/plain": [
       "<Figure size 432x288 with 1 Axes>"
      ]
     },
     "metadata": {
      "needs_background": "light"
     },
     "output_type": "display_data"
    }
   ],
   "source": [
    "plt.hist(df['speed km/h'])\n",
    "plt.xlabel('Speed km/h')\n",
    "plt.ylabel('Frequency')\n",
    "plt.title('HCM Public Transport Speed')\n",
    "plt.savefig('hcm_public_transport_speed_kmph.jpg', dpi=300)"
   ]
  },
  {
   "cell_type": "code",
   "execution_count": 11,
   "metadata": {},
   "outputs": [
    {
     "data": {
      "image/png": "[encoded data removed]",
      "text/plain": [
       "<Figure size 432x288 with 1 Axes>"
      ]
     },
     "metadata": {
      "needs_background": "light"
     },
     "output_type": "display_data"
    }
   ],
   "source": [
    "plt.hist(df['weight'])\n",
    "plt.xlabel('Times Route Passed')\n",
    "plt.ylabel('Frequency')\n",
    "plt.title('HCM Public Transport Times Route Passed')\n",
    "plt.savefig('hcm_public_transport_times_route_passed.jpg', dpi=300)"
   ]
  },
  {
   "cell_type": "code",
   "execution_count": 12,
   "metadata": {},
   "outputs": [
    {
     "data": {
      "image/png": "[encoded data removed]",
      "text/plain": [
       "<Figure size 432x288 with 1 Axes>"
      ]
     },
     "metadata": {
      "needs_background": "light"
     },
     "output_type": "display_data"
    }
   ],
   "source": [
    "plt.bar([1, 2], df['travel mode'].value_counts(), tick_label=df['travel mode'].value_counts().keys())\n",
    "plt.ylabel('Frequency')\n",
    "plt.title('HCM Public Transport Travel Mode')\n",
    "plt.savefig('hcm_public_transport_travel_mode.jpg', dpi=300)"
   ]
  },
  {
   "cell_type": "code",
   "execution_count": 13,
   "metadata": {},
   "outputs": [
    {
     "data": {
      "text/html": [
       "<div>\n",
       "<style scoped>\n",
       "    .dataframe tbody tr th:only-of-type {\n",
       "        vertical-align: middle;\n",
       "    }\n",
       "\n",
       "    .dataframe tbody tr th {\n",
       "        vertical-align: top;\n",
       "    }\n",
       "\n",
       "    .dataframe thead th {\n",
       "        text-align: right;\n",
       "    }\n",
       "</style>\n",
       "<table border=\"1\" class=\"dataframe\">\n",
       "  <thead>\n",
       "    <tr style=\"text-align: right;\">\n",
       "      <th></th>\n",
       "      <th>origin</th>\n",
       "      <th>destination</th>\n",
       "      <th>distance meters</th>\n",
       "      <th>time sec</th>\n",
       "      <th>weight</th>\n",
       "      <th>travel mode</th>\n",
       "      <th>speed km/h</th>\n",
       "    </tr>\n",
       "  </thead>\n",
       "  <tbody>\n",
       "    <tr>\n",
       "      <th>0</th>\n",
       "      <td>2413</td>\n",
       "      <td>2414</td>\n",
       "      <td>1324</td>\n",
       "      <td>1008</td>\n",
       "      <td>17</td>\n",
       "      <td>WALKING</td>\n",
       "      <td>4.728571</td>\n",
       "    </tr>\n",
       "    <tr>\n",
       "      <th>1</th>\n",
       "      <td>2413</td>\n",
       "      <td>2417</td>\n",
       "      <td>371</td>\n",
       "      <td>273</td>\n",
       "      <td>50</td>\n",
       "      <td>WALKING</td>\n",
       "      <td>4.892308</td>\n",
       "    </tr>\n",
       "    <tr>\n",
       "      <th>2</th>\n",
       "      <td>2413</td>\n",
       "      <td>2419</td>\n",
       "      <td>1034</td>\n",
       "      <td>799</td>\n",
       "      <td>216</td>\n",
       "      <td>WALKING</td>\n",
       "      <td>4.658824</td>\n",
       "    </tr>\n",
       "    <tr>\n",
       "      <th>9</th>\n",
       "      <td>2414</td>\n",
       "      <td>3096</td>\n",
       "      <td>170</td>\n",
       "      <td>131</td>\n",
       "      <td>1</td>\n",
       "      <td>WALKING</td>\n",
       "      <td>4.671756</td>\n",
       "    </tr>\n",
       "    <tr>\n",
       "      <th>10</th>\n",
       "      <td>2415</td>\n",
       "      <td>2416</td>\n",
       "      <td>1906</td>\n",
       "      <td>1410</td>\n",
       "      <td>127</td>\n",
       "      <td>WALKING</td>\n",
       "      <td>4.866383</td>\n",
       "    </tr>\n",
       "  </tbody>\n",
       "</table>\n",
       "</div>"
      ],
      "text/plain": [
       "    origin  destination  distance meters  time sec  weight travel mode  \\\n",
       "0     2413         2414             1324      1008      17     WALKING   \n",
       "1     2413         2417              371       273      50     WALKING   \n",
       "2     2413         2419             1034       799     216     WALKING   \n",
       "9     2414         3096              170       131       1     WALKING   \n",
       "10    2415         2416             1906      1410     127     WALKING   \n",
       "\n",
       "    speed km/h  \n",
       "0     4.728571  \n",
       "1     4.892308  \n",
       "2     4.658824  \n",
       "9     4.671756  \n",
       "10    4.866383  "
      ]
     },
     "execution_count": 13,
     "metadata": {},
     "output_type": "execute_result"
    }
   ],
   "source": [
    "df_walking = df[df['travel mode'] == 'WALKING']\n",
    "df_walking.head()"
   ]
  },
  {
   "cell_type": "code",
   "execution_count": 14,
   "metadata": {},
   "outputs": [
    {
     "data": {
      "text/html": [
       "<div>\n",
       "<style scoped>\n",
       "    .dataframe tbody tr th:only-of-type {\n",
       "        vertical-align: middle;\n",
       "    }\n",
       "\n",
       "    .dataframe tbody tr th {\n",
       "        vertical-align: top;\n",
       "    }\n",
       "\n",
       "    .dataframe thead th {\n",
       "        text-align: right;\n",
       "    }\n",
       "</style>\n",
       "<table border=\"1\" class=\"dataframe\">\n",
       "  <thead>\n",
       "    <tr style=\"text-align: right;\">\n",
       "      <th></th>\n",
       "      <th>origin</th>\n",
       "      <th>destination</th>\n",
       "      <th>distance meters</th>\n",
       "      <th>time sec</th>\n",
       "      <th>weight</th>\n",
       "      <th>speed km/h</th>\n",
       "    </tr>\n",
       "  </thead>\n",
       "  <tbody>\n",
       "    <tr>\n",
       "      <th>count</th>\n",
       "      <td>4278.000000</td>\n",
       "      <td>4278.000000</td>\n",
       "      <td>4278.000000</td>\n",
       "      <td>4278.000000</td>\n",
       "      <td>4278.000000</td>\n",
       "      <td>4278.000000</td>\n",
       "    </tr>\n",
       "    <tr>\n",
       "      <th>mean</th>\n",
       "      <td>1813.870500</td>\n",
       "      <td>2624.389902</td>\n",
       "      <td>1108.595839</td>\n",
       "      <td>843.194483</td>\n",
       "      <td>20.962833</td>\n",
       "      <td>4.720867</td>\n",
       "    </tr>\n",
       "    <tr>\n",
       "      <th>std</th>\n",
       "      <td>782.817203</td>\n",
       "      <td>910.639476</td>\n",
       "      <td>835.381762</td>\n",
       "      <td>632.599937</td>\n",
       "      <td>43.923609</td>\n",
       "      <td>0.180117</td>\n",
       "    </tr>\n",
       "    <tr>\n",
       "      <th>min</th>\n",
       "      <td>103.000000</td>\n",
       "      <td>16.000000</td>\n",
       "      <td>1.000000</td>\n",
       "      <td>1.000000</td>\n",
       "      <td>1.000000</td>\n",
       "      <td>3.066667</td>\n",
       "    </tr>\n",
       "    <tr>\n",
       "      <th>25%</th>\n",
       "      <td>1015.000000</td>\n",
       "      <td>2012.000000</td>\n",
       "      <td>511.000000</td>\n",
       "      <td>389.250000</td>\n",
       "      <td>1.000000</td>\n",
       "      <td>4.658598</td>\n",
       "    </tr>\n",
       "    <tr>\n",
       "      <th>50%</th>\n",
       "      <td>1907.000000</td>\n",
       "      <td>2822.500000</td>\n",
       "      <td>944.000000</td>\n",
       "      <td>717.500000</td>\n",
       "      <td>4.000000</td>\n",
       "      <td>4.738838</td>\n",
       "    </tr>\n",
       "    <tr>\n",
       "      <th>75%</th>\n",
       "      <td>2522.000000</td>\n",
       "      <td>3378.000000</td>\n",
       "      <td>1454.000000</td>\n",
       "      <td>1106.750000</td>\n",
       "      <td>19.000000</td>\n",
       "      <td>4.814802</td>\n",
       "    </tr>\n",
       "    <tr>\n",
       "      <th>max</th>\n",
       "      <td>3933.000000</td>\n",
       "      <td>3995.000000</td>\n",
       "      <td>4843.000000</td>\n",
       "      <td>3590.000000</td>\n",
       "      <td>713.000000</td>\n",
       "      <td>8.742857</td>\n",
       "    </tr>\n",
       "  </tbody>\n",
       "</table>\n",
       "</div>"
      ],
      "text/plain": [
       "            origin  destination  distance meters     time sec       weight  \\\n",
       "count  4278.000000  4278.000000      4278.000000  4278.000000  4278.000000   \n",
       "mean   1813.870500  2624.389902      1108.595839   843.194483    20.962833   \n",
       "std     782.817203   910.639476       835.381762   632.599937    43.923609   \n",
       "min     103.000000    16.000000         1.000000     1.000000     1.000000   \n",
       "25%    1015.000000  2012.000000       511.000000   389.250000     1.000000   \n",
       "50%    1907.000000  2822.500000       944.000000   717.500000     4.000000   \n",
       "75%    2522.000000  3378.000000      1454.000000  1106.750000    19.000000   \n",
       "max    3933.000000  3995.000000      4843.000000  3590.000000   713.000000   \n",
       "\n",
       "        speed km/h  \n",
       "count  4278.000000  \n",
       "mean      4.720867  \n",
       "std       0.180117  \n",
       "min       3.066667  \n",
       "25%       4.658598  \n",
       "50%       4.738838  \n",
       "75%       4.814802  \n",
       "max       8.742857  "
      ]
     },
     "execution_count": 14,
     "metadata": {},
     "output_type": "execute_result"
    }
   ],
   "source": [
    "df_walking.describe()"
   ]
  },
  {
   "cell_type": "code",
   "execution_count": 15,
   "metadata": {},
   "outputs": [
    {
     "data": {
      "image/png": "[encoded data removed]",
      "text/plain": [
       "<Figure size 432x288 with 1 Axes>"
      ]
     },
     "metadata": {
      "needs_background": "light"
     },
     "output_type": "display_data"
    }
   ],
   "source": [
    "plt.hist(df_walking['distance meters']/1000)\n",
    "plt.xlabel('Distance kilometers')\n",
    "plt.ylabel('Frequency')\n",
    "plt.title('HCM Public Transport Walking Distance')\n",
    "plt.savefig('hcm_public_transport_walking_distance_km.jpg', dpi=300)"
   ]
  },
  {
   "cell_type": "code",
   "execution_count": 16,
   "metadata": {},
   "outputs": [
    {
     "data": {
      "image/png": "[encoded data removed]",
      "text/plain": [
       "<Figure size 432x288 with 1 Axes>"
      ]
     },
     "metadata": {
      "needs_background": "light"
     },
     "output_type": "display_data"
    }
   ],
   "source": [
    "plt.hist(df_walking['time sec']/60)\n",
    "plt.xlabel('Time minutes')\n",
    "plt.ylabel('Frequency')\n",
    "plt.title('HCM Public Transport Walking Time')\n",
    "plt.savefig('hcm_public_transport_walking_time_min.jpg', dpi=300)"
   ]
  },
  {
   "cell_type": "code",
   "execution_count": 17,
   "metadata": {},
   "outputs": [
    {
     "data": {
      "image/png": "[encoded data removed]",
      "text/plain": [
       "<Figure size 432x288 with 1 Axes>"
      ]
     },
     "metadata": {
      "needs_background": "light"
     },
     "output_type": "display_data"
    }
   ],
   "source": [
    "plt.hist(df_walking['speed km/h'])\n",
    "plt.xlabel('Speed km/h')\n",
    "plt.ylabel('Frequency')\n",
    "plt.title('HCM Public Transport Walking Speed')\n",
    "plt.savefig('hcm_public_transport_walking_speed_kmph.jpg', dpi=300)"
   ]
  },
  {
   "cell_type": "code",
   "execution_count": 18,
   "metadata": {},
   "outputs": [
    {
     "data": {
      "image/png": "[encoded data removed]",
      "text/plain": [
       "<Figure size 432x288 with 1 Axes>"
      ]
     },
     "metadata": {
      "needs_background": "light"
     },
     "output_type": "display_data"
    }
   ],
   "source": [
    "plt.hist(df['weight'])\n",
    "plt.xlabel('Times Route Passed')\n",
    "plt.ylabel('Frequency')\n",
    "plt.title('HCM Public Transport Walking Times Route Passed')\n",
    "plt.savefig('hcm_public_transport_walking_times_route_passed.jpg', dpi=300)"
   ]
  },
  {
   "cell_type": "code",
   "execution_count": 19,
   "metadata": {},
   "outputs": [
    {
     "data": {
      "text/html": [
       "<div>\n",
       "<style scoped>\n",
       "    .dataframe tbody tr th:only-of-type {\n",
       "        vertical-align: middle;\n",
       "    }\n",
       "\n",
       "    .dataframe tbody tr th {\n",
       "        vertical-align: top;\n",
       "    }\n",
       "\n",
       "    .dataframe thead th {\n",
       "        text-align: right;\n",
       "    }\n",
       "</style>\n",
       "<table border=\"1\" class=\"dataframe\">\n",
       "  <thead>\n",
       "    <tr style=\"text-align: right;\">\n",
       "      <th></th>\n",
       "      <th>origin</th>\n",
       "      <th>destination</th>\n",
       "      <th>distance meters</th>\n",
       "      <th>time sec</th>\n",
       "      <th>weight</th>\n",
       "      <th>travel mode</th>\n",
       "      <th>speed km/h</th>\n",
       "    </tr>\n",
       "  </thead>\n",
       "  <tbody>\n",
       "    <tr>\n",
       "      <th>3</th>\n",
       "      <td>2414</td>\n",
       "      <td>2415</td>\n",
       "      <td>3551</td>\n",
       "      <td>677</td>\n",
       "      <td>1</td>\n",
       "      <td>TRANSIT</td>\n",
       "      <td>18.882718</td>\n",
       "    </tr>\n",
       "    <tr>\n",
       "      <th>4</th>\n",
       "      <td>2414</td>\n",
       "      <td>2433</td>\n",
       "      <td>12346</td>\n",
       "      <td>2257</td>\n",
       "      <td>1</td>\n",
       "      <td>TRANSIT</td>\n",
       "      <td>19.692335</td>\n",
       "    </tr>\n",
       "    <tr>\n",
       "      <th>5</th>\n",
       "      <td>2414</td>\n",
       "      <td>2438</td>\n",
       "      <td>3645</td>\n",
       "      <td>642</td>\n",
       "      <td>2</td>\n",
       "      <td>TRANSIT</td>\n",
       "      <td>20.439252</td>\n",
       "    </tr>\n",
       "    <tr>\n",
       "      <th>6</th>\n",
       "      <td>2414</td>\n",
       "      <td>2572</td>\n",
       "      <td>13731</td>\n",
       "      <td>2534</td>\n",
       "      <td>11</td>\n",
       "      <td>TRANSIT</td>\n",
       "      <td>19.507340</td>\n",
       "    </tr>\n",
       "    <tr>\n",
       "      <th>7</th>\n",
       "      <td>2414</td>\n",
       "      <td>2574</td>\n",
       "      <td>13462</td>\n",
       "      <td>2478</td>\n",
       "      <td>2</td>\n",
       "      <td>TRANSIT</td>\n",
       "      <td>19.557385</td>\n",
       "    </tr>\n",
       "  </tbody>\n",
       "</table>\n",
       "</div>"
      ],
      "text/plain": [
       "   origin  destination  distance meters  time sec  weight travel mode  \\\n",
       "3    2414         2415             3551       677       1     TRANSIT   \n",
       "4    2414         2433            12346      2257       1     TRANSIT   \n",
       "5    2414         2438             3645       642       2     TRANSIT   \n",
       "6    2414         2572            13731      2534      11     TRANSIT   \n",
       "7    2414         2574            13462      2478       2     TRANSIT   \n",
       "\n",
       "   speed km/h  \n",
       "3   18.882718  \n",
       "4   19.692335  \n",
       "5   20.439252  \n",
       "6   19.507340  \n",
       "7   19.557385  "
      ]
     },
     "execution_count": 19,
     "metadata": {},
     "output_type": "execute_result"
    }
   ],
   "source": [
    "df_transit = df[df['travel mode'] == 'TRANSIT']\n",
    "df_transit.head()"
   ]
  },
  {
   "cell_type": "code",
   "execution_count": 20,
   "metadata": {},
   "outputs": [
    {
     "data": {
      "text/html": [
       "<div>\n",
       "<style scoped>\n",
       "    .dataframe tbody tr th:only-of-type {\n",
       "        vertical-align: middle;\n",
       "    }\n",
       "\n",
       "    .dataframe tbody tr th {\n",
       "        vertical-align: top;\n",
       "    }\n",
       "\n",
       "    .dataframe thead th {\n",
       "        text-align: right;\n",
       "    }\n",
       "</style>\n",
       "<table border=\"1\" class=\"dataframe\">\n",
       "  <thead>\n",
       "    <tr style=\"text-align: right;\">\n",
       "      <th></th>\n",
       "      <th>origin</th>\n",
       "      <th>destination</th>\n",
       "      <th>distance meters</th>\n",
       "      <th>time sec</th>\n",
       "      <th>weight</th>\n",
       "      <th>speed km/h</th>\n",
       "    </tr>\n",
       "  </thead>\n",
       "  <tbody>\n",
       "    <tr>\n",
       "      <th>count</th>\n",
       "      <td>14115.000000</td>\n",
       "      <td>14115.000000</td>\n",
       "      <td>14115.000000</td>\n",
       "      <td>14115.000000</td>\n",
       "      <td>14115.000000</td>\n",
       "      <td>14115.000000</td>\n",
       "    </tr>\n",
       "    <tr>\n",
       "      <th>mean</th>\n",
       "      <td>2775.655685</td>\n",
       "      <td>3224.456394</td>\n",
       "      <td>8469.807651</td>\n",
       "      <td>1574.331916</td>\n",
       "      <td>4.531066</td>\n",
       "      <td>19.300255</td>\n",
       "    </tr>\n",
       "    <tr>\n",
       "      <th>std</th>\n",
       "      <td>416.711202</td>\n",
       "      <td>428.462932</td>\n",
       "      <td>5503.599993</td>\n",
       "      <td>976.155193</td>\n",
       "      <td>9.579590</td>\n",
       "      <td>2.142933</td>\n",
       "    </tr>\n",
       "    <tr>\n",
       "      <th>min</th>\n",
       "      <td>16.000000</td>\n",
       "      <td>16.000000</td>\n",
       "      <td>273.000000</td>\n",
       "      <td>37.000000</td>\n",
       "      <td>1.000000</td>\n",
       "      <td>13.506323</td>\n",
       "    </tr>\n",
       "    <tr>\n",
       "      <th>25%</th>\n",
       "      <td>2569.000000</td>\n",
       "      <td>2889.000000</td>\n",
       "      <td>4246.500000</td>\n",
       "      <td>811.000000</td>\n",
       "      <td>1.000000</td>\n",
       "      <td>18.130468</td>\n",
       "    </tr>\n",
       "    <tr>\n",
       "      <th>50%</th>\n",
       "      <td>2733.000000</td>\n",
       "      <td>3236.000000</td>\n",
       "      <td>7248.000000</td>\n",
       "      <td>1381.000000</td>\n",
       "      <td>2.000000</td>\n",
       "      <td>18.749200</td>\n",
       "    </tr>\n",
       "    <tr>\n",
       "      <th>75%</th>\n",
       "      <td>2946.000000</td>\n",
       "      <td>3559.000000</td>\n",
       "      <td>11566.000000</td>\n",
       "      <td>2155.000000</td>\n",
       "      <td>4.000000</td>\n",
       "      <td>19.760922</td>\n",
       "    </tr>\n",
       "    <tr>\n",
       "      <th>max</th>\n",
       "      <td>3964.000000</td>\n",
       "      <td>3995.000000</td>\n",
       "      <td>42949.000000</td>\n",
       "      <td>6185.000000</td>\n",
       "      <td>247.000000</td>\n",
       "      <td>60.007792</td>\n",
       "    </tr>\n",
       "  </tbody>\n",
       "</table>\n",
       "</div>"
      ],
      "text/plain": [
       "             origin   destination  distance meters      time sec  \\\n",
       "count  14115.000000  14115.000000     14115.000000  14115.000000   \n",
       "mean    2775.655685   3224.456394      8469.807651   1574.331916   \n",
       "std      416.711202    428.462932      5503.599993    976.155193   \n",
       "min       16.000000     16.000000       273.000000     37.000000   \n",
       "25%     2569.000000   2889.000000      4246.500000    811.000000   \n",
       "50%     2733.000000   3236.000000      7248.000000   1381.000000   \n",
       "75%     2946.000000   3559.000000     11566.000000   2155.000000   \n",
       "max     3964.000000   3995.000000     42949.000000   6185.000000   \n",
       "\n",
       "             weight    speed km/h  \n",
       "count  14115.000000  14115.000000  \n",
       "mean       4.531066     19.300255  \n",
       "std        9.579590      2.142933  \n",
       "min        1.000000     13.506323  \n",
       "25%        1.000000     18.130468  \n",
       "50%        2.000000     18.749200  \n",
       "75%        4.000000     19.760922  \n",
       "max      247.000000     60.007792  "
      ]
     },
     "execution_count": 20,
     "metadata": {},
     "output_type": "execute_result"
    }
   ],
   "source": [
    "df_transit.describe()"
   ]
  },
  {
   "cell_type": "code",
   "execution_count": 21,
   "metadata": {},
   "outputs": [
    {
     "data": {
      "image/png": "[encoded data removed]",
      "text/plain": [
       "<Figure size 432x288 with 1 Axes>"
      ]
     },
     "metadata": {
      "needs_background": "light"
     },
     "output_type": "display_data"
    }
   ],
   "source": [
    "plt.hist(df_transit['distance meters']/1000)\n",
    "plt.xlabel('Distance kilometers')\n",
    "plt.ylabel('Frequency')\n",
    "plt.title('HCM Public Transport Transit Distance')\n",
    "plt.savefig('hcm_public_transport_transit_distance_km.jpg', dpi=300)"
   ]
  },
  {
   "cell_type": "code",
   "execution_count": 22,
   "metadata": {},
   "outputs": [
    {
     "data": {
      "image/png": "[encoded data removed]",
      "text/plain": [
       "<Figure size 432x288 with 1 Axes>"
      ]
     },
     "metadata": {
      "needs_background": "light"
     },
     "output_type": "display_data"
    }
   ],
   "source": [
    "plt.hist(df_transit['time sec']/60)\n",
    "plt.xlabel('Time minutes')\n",
    "plt.ylabel('Frequency')\n",
    "plt.title('HCM Public Transport Transit Time')\n",
    "plt.savefig('hcm_public_transport_transit_time_min.jpg', dpi=300)"
   ]
  },
  {
   "cell_type": "code",
   "execution_count": 23,
   "metadata": {},
   "outputs": [
    {
     "data": {
      "image/png": "[encoded data removed]",
      "text/plain": [
       "<Figure size 432x288 with 1 Axes>"
      ]
     },
     "metadata": {
      "needs_background": "light"
     },
     "output_type": "display_data"
    }
   ],
   "source": [
    "plt.hist(df_transit['speed km/h'])\n",
    "plt.xlabel('Speed km/h')\n",
    "plt.ylabel('Frequency')\n",
    "plt.title('HCM Public Transport Transit Speed')\n",
    "plt.savefig('hcm_public_transport_transit_speed_kmph.jpg', dpi=300)"
   ]
  },
  {
   "cell_type": "code",
   "execution_count": 24,
   "metadata": {},
   "outputs": [
    {
     "data": {
      "image/png": "[encoded data removed]",
      "text/plain": [
       "<Figure size 432x288 with 1 Axes>"
      ]
     },
     "metadata": {
      "needs_background": "light"
     },
     "output_type": "display_data"
    }
   ],
   "source": [
    "plt.hist(df['weight'])\n",
    "plt.xlabel('Times Route Passed')\n",
    "plt.ylabel('Frequency')\n",
    "plt.title('HCM Public Transport Transit Times Route Passed')\n",
    "plt.savefig('hcm_public_transport_transit_times_route_passed.jpg', dpi=300)"
   ]
  },
  {
   "cell_type": "code",
   "execution_count": 26,
   "metadata": {},
   "outputs": [],
   "source": [
    "import networkx as nx\n",
    "import nxviz as nz"
   ]
  },
  {
   "cell_type": "code",
   "execution_count": 27,
   "metadata": {},
   "outputs": [],
   "source": [
    "G_transit = nx.from_pandas_edgelist(df_transit, 'origin', 'destination', ['distance meters', 'time sec', 'weight'], nx.Graph())"
   ]
  },
  {
   "cell_type": "code",
   "execution_count": 28,
   "metadata": {},
   "outputs": [
    {
     "name": "stdout",
     "output_type": "stream",
     "text": [
      "Nodes: 1550\n",
      "Edges: 14115\n"
     ]
    }
   ],
   "source": [
    "print(\"Nodes:\", len(G_transit.nodes()))\n",
    "print(\"Edges:\", len(G_transit.edges()))"
   ]
  },
  {
   "cell_type": "code",
   "execution_count": null,
   "metadata": {},
   "outputs": [],
   "source": []
  }
 ],
 "metadata": {
  "kernelspec": {
   "display_name": "Python 3",
   "language": "python",
   "name": "python3"
  },
  "language_info": {
   "codemirror_mode": {
    "name": "ipython",
    "version": 3
   },
   "file_extension": ".py",
   "mimetype": "text/x-python",
   "name": "python",
   "nbconvert_exporter": "python",
   "pygments_lexer": "ipython3",
   "version": "3.8.5"
  }
 },
 "nbformat": 4,
 "nbformat_minor": 4
}
